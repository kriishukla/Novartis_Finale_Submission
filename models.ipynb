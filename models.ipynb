{
 "cells": [
  {
   "cell_type": "markdown",
   "metadata": {},
   "source": [
    "### Order in which code is to be ran\n",
    "\n",
    "Dataset_preprocessing.ipynb --->  EDA.ipynb ---> Feature_Engineering.ipynb ---> models.ipynb ----> models.ipynb ----> neural-network.ipynb\n",
    "\n",
    "Many Dataset files will be created in running this code could'nt submit those file of 50 mb zip file limit"
   ]
  },
  {
   "cell_type": "code",
   "execution_count": 1,
   "metadata": {},
   "outputs": [],
   "source": [
    "import pandas as pd\n",
    "from sklearn.preprocessing import StandardScaler\n",
    "from sklearn.model_selection import train_test_split, GridSearchCV\n",
    "from sklearn.metrics import mean_squared_error, mean_absolute_error, r2_score\n",
    "from sklearn.linear_model import LinearRegression\n",
    "from sklearn.tree import DecisionTreeRegressor\n",
    "from sklearn.ensemble import RandomForestRegressor\n",
    "from sklearn.svm import SVR\n",
    "from sklearn.neighbors import KNeighborsRegressor\n",
    "import matplotlib.pyplot as plt\n"
   ]
  },
  {
   "cell_type": "code",
   "execution_count": 13,
   "metadata": {},
   "outputs": [],
   "source": [
    "import warnings\n",
    "warnings.filterwarnings(\"ignore\")\n"
   ]
  },
  {
   "cell_type": "code",
   "execution_count": 14,
   "metadata": {},
   "outputs": [],
   "source": [
    "X=pd.read_csv('Featured_engg_dataset\\\\train.csv')\n",
    "y_train=X['Study Recruitment Rate']\n",
    "X_train=X.drop(['Study Recruitment Rate'],axis=1)"
   ]
  },
  {
   "cell_type": "markdown",
   "metadata": {},
   "source": [
    "This (Study Recruitment Rate^2) was created b/c while doing poly feature engg Study Recruitment Rate was removed so it did made 2 degree poly with itself when later merged got 2 output quantity so will have to remove both its a poly feature on itself if not removed our model will perform very badly on test"
   ]
  },
  {
   "cell_type": "code",
   "execution_count": 15,
   "metadata": {},
   "outputs": [],
   "source": [
    "X_train=X_train.drop(['Study Recruitment Rate^2'],axis=1)"
   ]
  },
  {
   "cell_type": "code",
   "execution_count": 16,
   "metadata": {},
   "outputs": [],
   "source": [
    "X=pd.read_csv('Featured_engg_dataset\\\\val.csv')\n",
    "y_val=X['Study Recruitment Rate']\n",
    "X_val=X.drop(['Study Recruitment Rate'],axis=1)     "
   ]
  },
  {
   "cell_type": "markdown",
   "metadata": {},
   "source": [
    "This (Study Recruitment Rate^2) was created b/c while doing dpoly feature engg Study Recruitment Rate was removed so it did made 2 degree poly with itself when later merged got 2 output quantity so will have to remove both its a poly feature on itself if not removed our model will perform very badly on test"
   ]
  },
  {
   "cell_type": "code",
   "execution_count": 17,
   "metadata": {},
   "outputs": [],
   "source": [
    "X_val=X_val.drop(['Study Recruitment Rate^2'],axis=1)"
   ]
  },
  {
   "cell_type": "markdown",
   "metadata": {},
   "source": [
    "This code performs a linear regression analysis using GridSearchCV to find the best model based on cross-validated mean squared error. It fits the model to the training data (X_train, y_train), predicts the validation data (X_val), and calculates the mean squared error (MSE), mean absolute error (MAE), and R² score for the predictions."
   ]
  },
  {
   "cell_type": "code",
   "execution_count": 10,
   "metadata": {},
   "outputs": [
    {
     "name": "stdout",
     "output_type": "stream",
     "text": [
      "Linear Regression Results:\n",
      "MSE: 361.1128213924294\n",
      "MAE: 4.8808232645412835\n",
      "R²: 0.7950536193232335\n"
     ]
    }
   ],
   "source": [
    "model = LinearRegression()\n",
    "grid_search = GridSearchCV(model, {}, cv=5, scoring='neg_mean_squared_error')\n",
    "grid_search.fit(X_train, y_train)\n",
    "\n",
    "best_model = grid_search.best_estimator_\n",
    "y_pred = best_model.predict(X_val)\n",
    "\n",
    "mse = mean_squared_error(y_val, y_pred)\n",
    "mae = mean_absolute_error(y_val, y_pred)\n",
    "r2 = r2_score(y_val, y_pred)\n",
    "\n",
    "print(\"Linear Regression Results:\")\n",
    "print(f\"MSE: {mse}\")\n",
    "print(f\"MAE: {mae}\")\n",
    "print(f\"R²: {r2}\")"
   ]
  },
  {
   "cell_type": "markdown",
   "metadata": {},
   "source": [
    "This code performs a decision tree regression analysis using GridSearchCV to find the best model parameters (max_depth) based on cross-validated mean squared error. It fits the model to the training data (X_train, y_train), predicts the validation data (X_val), and calculates the mean squared error (MSE), mean absolute error (MAE), and R² score for the predictions. "
   ]
  },
  {
   "cell_type": "code",
   "execution_count": null,
   "metadata": {},
   "outputs": [],
   "source": [
    "model = DecisionTreeRegressor()\n",
    "param_grid = {'max_depth': [None, 10, 20, 30, 40, 50,100,200,300,400,500]}\n",
    "grid_search = GridSearchCV(model, param_grid, cv=5, scoring='neg_mean_squared_error')\n",
    "grid_search.fit(X_train, y_train)\n",
    "\n",
    "best_model = grid_search.best_estimator_\n",
    "y_pred = best_model.predict(X_val)\n",
    "\n",
    "mse = mean_squared_error(y_val, y_pred)\n",
    "mae = mean_absolute_error(y_val, y_pred)\n",
    "r2 = r2_score(y_val, y_pred)\n",
    "\n",
    "print(\"\\nDecision Tree Results:\")\n",
    "print(f\"Best Params: {grid_search.best_params_}\")\n",
    "print(f\"MSE: {mse}\")\n",
    "print(f\"MAE: {mae}\")\n",
    "print(f\"R²: {r2}\")"
   ]
  },
  {
   "cell_type": "markdown",
   "metadata": {},
   "source": [
    "This code performs a random forest regression analysis using GridSearchCV to find the best model parameters (n_estimators and max_depth) based on cross-validated mean squared error. It fits the model to the training data (X_train, y_train), predicts the validation data (X_val), and calculates the mean squared error (MSE), mean absolute error (MAE), and R² score for the predictions. "
   ]
  },
  {
   "cell_type": "code",
   "execution_count": null,
   "metadata": {},
   "outputs": [
    {
     "name": "stdout",
     "output_type": "stream",
     "text": [
      "\n",
      "Random Forest Results:\n",
      "Best Params: {'max_depth': 20, 'n_estimators': 10}\n",
      "MSE: 332.57890791036795\n",
      "MAE: 0.3395503415332803\n",
      "R²: 0.8112477889795288\n"
     ]
    }
   ],
   "source": [
    "model = RandomForestRegressor()\n",
    "param_grid = {'n_estimators': [10, 50, 100], 'max_depth': [None, 10, 20, 30]}\n",
    "grid_search = GridSearchCV(model, param_grid, cv=5, scoring='neg_mean_squared_error')\n",
    "grid_search.fit(X_train, y_train)\n",
    "\n",
    "best_model = grid_search.best_estimator_\n",
    "y_pred = best_model.predict(X_val)\n",
    "\n",
    "mse = mean_squared_error(y_val, y_pred)\n",
    "mae = mean_absolute_error(y_val, y_pred)\n",
    "r2 = r2_score(y_val, y_pred)\n",
    "\n",
    "print(\"\\nRandom Forest Results:\")\n",
    "print(f\"Best Params: {grid_search.best_params_}\")\n",
    "print(f\"MSE: {mse}\")\n",
    "print(f\"MAE: {mae}\")\n",
    "print(f\"R²: {r2}\")"
   ]
  },
  {
   "cell_type": "markdown",
   "metadata": {},
   "source": [
    "This code performs a support vector regression (SVR) analysis using GridSearchCV to find the best model parameters (C and gamma) based on cross-validated mean squared error. It fits the model to the training data (X_train, y_train), predicts the validation data (X_val), and calculates the mean squared error (MSE), mean absolute error (MAE), and R² score for the predictions. "
   ]
  },
  {
   "cell_type": "code",
   "execution_count": null,
   "metadata": {},
   "outputs": [
    {
     "name": "stdout",
     "output_type": "stream",
     "text": [
      "\n",
      "Support Vector Regressor Results:\n",
      "Best Params: {'C': 10, 'gamma': 'scale'}\n",
      "MSE: 1245.4261320619037\n",
      "MAE: 4.068448258925487\n",
      "R²: 0.29316943889685176\n"
     ]
    }
   ],
   "source": [
    "\n",
    "model = SVR()\n",
    "param_grid = {'C': [0.1, 1, 10], 'gamma': ['scale', 'auto']}\n",
    "grid_search = GridSearchCV(model, param_grid, cv=5, scoring='neg_mean_squared_error')\n",
    "grid_search.fit(X_train, y_train)\n",
    "\n",
    "best_model = grid_search.best_estimator_\n",
    "y_pred = best_model.predict(X_val)\n",
    "\n",
    "mse = mean_squared_error(y_val, y_pred)\n",
    "mae = mean_absolute_error(y_val, y_pred)\n",
    "r2 = r2_score(y_val, y_pred)\n",
    "\n",
    "print(\"\\nSupport Vector Regressor Results:\")\n",
    "print(f\"Best Params: {grid_search.best_params_}\")\n",
    "print(f\"MSE: {mse}\")\n",
    "print(f\"MAE: {mae}\")\n",
    "print(f\"R²: {r2}\")\n"
   ]
  },
  {
   "cell_type": "markdown",
   "metadata": {},
   "source": [
    "This code performs a k-nearest neighbors regression analysis using GridSearchCV to find the best model parameter (n_neighbors) based on cross-validated mean squared error. It fits the model to the training data (X_train, y_train), predicts the validation data (X_val), and calculates the mean squared error (MSE), mean absolute error (MAE), and R² score for the predictions. "
   ]
  },
  {
   "cell_type": "code",
   "execution_count": 20,
   "metadata": {},
   "outputs": [
    {
     "name": "stdout",
     "output_type": "stream",
     "text": [
      "\n",
      "K-Neighbors Regressor Results:\n",
      "Best Params: {'n_neighbors': 3}\n",
      "MSE: 704.1219482312468\n",
      "MAE: 1.6697003965268273\n",
      "R²: 0.6003818300091712\n"
     ]
    }
   ],
   "source": [
    "from sklearn.neighbors import KNeighborsRegressor\n",
    "\n",
    "model = KNeighborsRegressor()\n",
    "param_grid = {'n_neighbors': [3, 5, 7, 9]}\n",
    "grid_search = GridSearchCV(model, param_grid, cv=5, scoring='neg_mean_squared_error')\n",
    "grid_search.fit(X_train, y_train)\n",
    "\n",
    "best_model = grid_search.best_estimator_\n",
    "y_pred = best_model.predict(X_val)\n",
    "\n",
    "mse = mean_squared_error(y_val, y_pred)\n",
    "mae = mean_absolute_error(y_val, y_pred)\n",
    "r2 = r2_score(y_val, y_pred)\n",
    "\n",
    "print(\"\\nK-Neighbors Regressor Results:\")\n",
    "print(f\"Best Params: {grid_search.best_params_}\")\n",
    "print(f\"MSE: {mse}\")\n",
    "print(f\"MAE: {mae}\")\n",
    "print(f\"R²: {r2}\")\n"
   ]
  },
  {
   "cell_type": "markdown",
   "metadata": {},
   "source": [
    "This code visualizes the performance metrics (MSE, MAE, and R²) of five different regression models (Linear Regression, Decision Tree, Random Forest, SVR, and KNN) using bar plots. It creates a subplot with three bar charts, each comparing one of the metrics across the models. The charts are displayed side by side with appropriate titles, labels, and color schemes for better readability."
   ]
  },
  {
   "cell_type": "code",
   "execution_count": 7,
   "metadata": {},
   "outputs": [
    {
     "data": {
      "image/png": "[encoded data removed]",
      "text/plain": [
       "<Figure size 1800x600 with 3 Axes>"
      ]
     },
     "metadata": {},
     "output_type": "display_data"
    }
   ],
   "source": [
    "\n",
    "models = ['Linear Regression', 'Decision Tree', 'Random Forest', 'SVR', 'KNN']\n",
    "\n",
    "mse = [361.11, 289.85, 332.57, 1245.43, 704.12]\n",
    "\n",
    "mae = [4.88, 0.44, 0.34, 4.07, 1.67]\n",
    "\n",
    "r2 = [0.795, 0.835, 0.811, 0.293, 0.600]\n",
    "\n",
    "fig, axs = plt.subplots(1, 3, figsize=(18, 6))\n",
    "\n",
    "axs[0].bar(models, mse, color='skyblue')\n",
    "axs[0].set_title('MSE Comparison')\n",
    "axs[0].set_ylabel('MSE')\n",
    "axs[0].set_ylim(0, max(mse) * 1.1)\n",
    "\n",
    "axs[1].bar(models, mae, color='lightgreen')\n",
    "axs[1].set_title('MAE Comparison')\n",
    "axs[1].set_ylabel('MAE')\n",
    "axs[1].set_ylim(0, max(mae) * 1.1)\n",
    "\n",
    "axs[2].bar(models, r2, color='salmon')\n",
    "axs[2].set_title('R² Comparison')\n",
    "axs[2].set_ylabel('R²')\n",
    "axs[2].set_ylim(0, 1)\n",
    "\n",
    "plt.tight_layout()\n",
    "plt.show()\n"
   ]
  },
  {
   "cell_type": "markdown",
   "metadata": {},
   "source": [
    "The plots compare the performance of different models using MSE, MAE, and R² metrics. The Decision Tree and Random Forest models show lower MSE and MAE, indicating better accuracy, while SVR has the lowest R², suggesting it explains less variance. KNN performs moderately across all metrics, and Linear Regression shows balanced performance."
   ]
  },
  {
   "cell_type": "code",
   "execution_count": 10,
   "metadata": {},
   "outputs": [],
   "source": [
    "X=pd.read_csv('Featured_engg_dataset\\\\test.csv')\n",
    "y_test=X['Study Recruitment Rate']\n",
    "X_test=X.drop(['Study Recruitment Rate'],axis=1)"
   ]
  },
  {
   "cell_type": "code",
   "execution_count": 11,
   "metadata": {},
   "outputs": [],
   "source": [
    "X_test=X_test.drop(['Study Recruitment Rate^2'],axis=1)"
   ]
  },
  {
   "cell_type": "markdown",
   "metadata": {},
   "source": [
    "Best Non Neural Network model performance on test set"
   ]
  },
  {
   "cell_type": "code",
   "execution_count": 18,
   "metadata": {},
   "outputs": [
    {
     "name": "stdout",
     "output_type": "stream",
     "text": [
      "Test MSE: 50.512958560858934\n",
      "Test MAE: 0.17554355962657028\n",
      "Test R²: 0.9519620172362653\n"
     ]
    }
   ],
   "source": [
    "best_rf_model = RandomForestRegressor(max_depth=20, n_estimators=10, random_state=42)\n",
    "best_rf_model.fit(X_train, y_train)\n",
    "\n",
    "y_test_pred = best_rf_model.predict(X_test)\n",
    "test_mse = mean_squared_error(y_test, y_test_pred)\n",
    "test_mae = mean_absolute_error(y_test, y_test_pred)\n",
    "test_r2 = r2_score(y_test, y_test_pred)\n",
    "\n",
    "print(f'Test MSE: {test_mse}')\n",
    "print(f'Test MAE: {test_mae}')\n",
    "print(f'Test R²: {test_r2}')"
   ]
  }
 ],
 "metadata": {
  "kernelspec": {
   "display_name": "Python 3",
   "language": "python",
   "name": "python3"
  },
  "language_info": {
   "codemirror_mode": {
    "name": "ipython",
    "version": 3
   },
   "file_extension": ".py",
   "mimetype": "text/x-python",
   "name": "python",
   "nbconvert_exporter": "python",
   "pygments_lexer": "ipython3",
   "version": "3.13.1"
  }
 },
 "nbformat": 4,
 "nbformat_minor": 2
}
