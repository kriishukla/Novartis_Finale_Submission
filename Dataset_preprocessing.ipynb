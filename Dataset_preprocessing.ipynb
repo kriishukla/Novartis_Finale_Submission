{
 "cells": [
  {
   "cell_type": "markdown",
   "metadata": {},
   "source": [
    "### Order in which code is to be ran\n",
    "\n",
    "Dataset_preprocessing.ipynb --->  EDA.ipynb ---> Feature_Engineering.ipynb ---> models.ipynb ----> models.ipynb ----> neural-network.ipynb\n",
    "\n",
    "Many Dataset files will be created in running this code could'nt submit those file of 50 mb zip file limit"
   ]
  },
  {
   "cell_type": "markdown",
   "metadata": {},
   "source": [
    "### Step : Importing Libraries\n",
    "This section imports the necessary Python libraries:\n",
    "- `pandas` for data manipulation and analysis\n",
    "- `scikit-learn` for machine learning utilities like dataset splitting\n",
    "- `textblob` for sentiment analysis\n",
    "- `os` for handling file paths"
   ]
  },
  {
   "cell_type": "code",
   "execution_count": 1,
   "metadata": {},
   "outputs": [],
   "source": [
    "import pandas as pd\n",
    "from sklearn.model_selection import train_test_split\n",
    "from textblob import TextBlob\n",
    "import os\n"
   ]
  },
  {
   "cell_type": "code",
   "execution_count": 2,
   "metadata": {},
   "outputs": [],
   "source": [
    "file_path = 'Dataset/usecase_4_.xlsx'\n",
    "df = pd.read_excel(file_path)\n"
   ]
  },
  {
   "cell_type": "code",
   "execution_count": 3,
   "metadata": {},
   "outputs": [
    {
     "name": "stdout",
     "output_type": "stream",
     "text": [
      "Initial DataFrame:\n",
      "    NCT Number                                        Study Title  \\\n",
      "0  NCT00900809  QUILT-3.018: Neukoplastâ„¢ (NK-92) for the Tre...   \n",
      "1  NCT01113515  Clinical Investigation of GalnobaxÂ® for the T...   \n",
      "2  NCT01288573  A Combined Study in Pediatric Cancer Patients ...   \n",
      "3  NCT01336660  A Trial of Equine F (ab')2 Antivenom for Treat...   \n",
      "4  NCT01376167  Ph 2B/3 Tafenoquine (TFQ) Study in Prevention ...   \n",
      "\n",
      "                                      Study URL Study Status  \\\n",
      "0  https://clinicaltrials.gov/study/NCT00900809    COMPLETED   \n",
      "1  https://clinicaltrials.gov/study/NCT01113515    COMPLETED   \n",
      "2  https://clinicaltrials.gov/study/NCT01288573    COMPLETED   \n",
      "3  https://clinicaltrials.gov/study/NCT01336660    COMPLETED   \n",
      "4  https://clinicaltrials.gov/study/NCT01376167    COMPLETED   \n",
      "\n",
      "                                       Brief Summary Study Results  \\\n",
      "0  NK cells from patients with malignant diseases...            NO   \n",
      "1  The purpose of this study is to determine safe...           YES   \n",
      "2  This is a multi-site study with plerixafor in ...            NO   \n",
      "3  This study has the objective to demonstrate th...            NO   \n",
      "4  The purpose of this two part study is to test ...           YES   \n",
      "\n",
      "                                          Conditions  \\\n",
      "0                             Acute Myeloid Leukemia   \n",
      "1                                Diabetic Foot Ulcer   \n",
      "2  Ewing's Sarcoma/Soft Tissue Sarcoma|Neuroblast...   \n",
      "3                        Poisoning by Scorpion Sting   \n",
      "4                                     Malaria, Vivax   \n",
      "\n",
      "                                       Interventions  \\\n",
      "0                  BIOLOGICAL: Neukoplastâ„¢ (NK-92)   \n",
      "1  DRUG: Esmolol hydrochloride|DRUG: Esmolol hydr...   \n",
      "2  DRUG: plerixafor|DRUG: plerixafor|DRUG: plerix...   \n",
      "3  BIOLOGICAL: Equine F(ab')2 antivenom|OTHER: In...   \n",
      "4  DRUG: Chloroquine 600mg|DRUG: Chloroquine 300m...   \n",
      "\n",
      "                            Primary Outcome Measures  \\\n",
      "0  Determine the safety / maximum tolerated dose ...   \n",
      "1  Safety Outcome, Number of participant with adv...   \n",
      "2  Proportion of patients achieving at least a do...   \n",
      "3  To demonstrate the effectiveness of Alacramyn ...   \n",
      "4  Number of Participants With Recurrence-free Ef...   \n",
      "\n",
      "                          Secondary Outcome Measures  ...  \\\n",
      "0  Evaluate the therapeutic efficacy of Neukoplas...  ...   \n",
      "1  Efficacy Outcome, To evaluate the percent chan...  ...   \n",
      "2  Number of days of apheresis required to reach ...  ...   \n",
      "3  Effectiveness of Alacramyn NAMO in the treatme...  ...   \n",
      "4  Number of Participants With Recurrence-free Ef...  ...   \n",
      "\n",
      "                                        Study Design  \\\n",
      "0  Allocation: NA|Intervention Model: SINGLE_GROU...   \n",
      "1  Allocation: RANDOMIZED|Intervention Model: PAR...   \n",
      "2  Allocation: RANDOMIZED|Intervention Model: PAR...   \n",
      "3  Allocation: RANDOMIZED|Intervention Model: PAR...   \n",
      "4  Allocation: RANDOMIZED|Intervention Model: PAR...   \n",
      "\n",
      "                          Other IDs Start Date Primary Completion Date  \\\n",
      "0                       QUILT-3.018 2014-05-12     2015-06-02 00:00:00   \n",
      "1            Novalead-Galnobax-0210 2014-02-20     2015-06-27 00:00:00   \n",
      "2  DFI12860|2010-019340-40|MOZ15609 2014-03-03     2017-05-09 00:00:00   \n",
      "3                          XM-10/02 2018-07-21     2018-11-01 00:00:00   \n",
      "4                  112582|TAF112582 2014-04-24     2016-11-18 00:00:00   \n",
      "\n",
      "  Completion Date First Posted  Results First Posted Last Update Posted  \\\n",
      "0      2015-06-02   2009-05-13                   NaT         2022-04-05   \n",
      "1      2015-10-17   2010-04-30            2024-05-20         2024-05-20   \n",
      "2      2017-05-09   2011-02-02                   NaT         2017-05-16   \n",
      "3      2018-11-15   2011-04-18                   NaT         2018-12-13   \n",
      "4      2016-11-18   2011-06-20            2018-04-23         2018-04-23   \n",
      "\n",
      "                                           Locations Study Recruitment Rate  \n",
      "0  UPMC Cancer Center - Hillman Cancer Center, Pi...               0.551598  \n",
      "1  VA New England Health Care Division, Providenc...               0.443157  \n",
      "2  Investigational Site Number 51, Gent, 9000, Be...               0.044558  \n",
      "3  CHU Hassan II de FÃ¨s, FÃ¨s, Morocco|HÃ´pital ...               7.279202  \n",
      "4  GSK Investigational Site, Bandarban, Banglades...               1.969008  \n",
      "\n",
      "[5 rows x 29 columns]\n"
     ]
    }
   ],
   "source": [
    "print(\"Initial DataFrame:\")\n",
    "print(df.head())\n"
   ]
  },
  {
   "cell_type": "markdown",
   "id": "7c342c97",
   "metadata": {},
   "source": [
    "### Step : Checking Dataset Dimensions\n",
    "Displays the number of rows and columns in the dataset to understand its size."
   ]
  },
  {
   "cell_type": "code",
   "execution_count": 4,
   "metadata": {},
   "outputs": [
    {
     "data": {
      "text/plain": [
       "(20676, 29)"
      ]
     },
     "execution_count": 4,
     "metadata": {},
     "output_type": "execute_result"
    }
   ],
   "source": [
    "df.shape"
   ]
  },
  {
   "cell_type": "markdown",
   "id": "f202fadb",
   "metadata": {},
   "source": [
    "### Step : Identifying Column Types\n",
    "Classifies columns into the following categories:\n",
    "- **Categorical columns**: Columns with fewer unique values (e.g., categories).\n",
    "- **Text columns**: Columns containing textual data.\n",
    "- **Date columns**: Columns with date or time information."
   ]
  },
  {
   "cell_type": "code",
   "execution_count": 5,
   "metadata": {},
   "outputs": [],
   "source": [
    "categorical_columns = []\n",
    "text_columns = []\n",
    "date_columns = []\n",
    "\n",
    "for column in df.columns:\n",
    "    if df[column].dtype == 'object':\n",
    "        unique_values = df[column].nunique()\n",
    "        if unique_values < 50: \n",
    "            categorical_columns.append(column)\n",
    "        elif 'date' in column.lower() or 'time' in column.lower():  \n",
    "            date_columns.append(column)\n",
    "        else:\n",
    "            text_columns.append(column)\n"
   ]
  },
  {
   "cell_type": "code",
   "execution_count": 6,
   "metadata": {},
   "outputs": [
    {
     "name": "stdout",
     "output_type": "stream",
     "text": [
      "\n",
      "Identified column types:\n",
      "Categorical columns: ['Study Status', 'Study Results', 'Sex', 'Age', 'Phases', 'Funder Type', 'Study Type']\n",
      "Text columns: ['NCT Number', 'Study Title', 'Study URL', 'Brief Summary', 'Conditions', 'Interventions', 'Primary Outcome Measures', 'Secondary Outcome Measures', 'Other Outcome Measures', 'Sponsor', 'Collaborators', 'Study Design', 'Other IDs', 'Locations']\n",
      "Date columns: ['Primary Completion Date']\n"
     ]
    }
   ],
   "source": [
    "print(\"\\nIdentified column types:\")\n",
    "print(f\"Categorical columns: {categorical_columns}\")\n",
    "print(f\"Text columns: {text_columns}\")\n",
    "print(f\"Date columns: {date_columns}\")\n"
   ]
  },
  {
   "cell_type": "code",
   "execution_count": 7,
   "metadata": {},
   "outputs": [
    {
     "name": "stdout",
     "output_type": "stream",
     "text": [
      "\n",
      "Encoding categorical columns...\n",
      "Categorical columns encoded.\n"
     ]
    }
   ],
   "source": [
    "print(\"\\nEncoding categorical columns...\")\n",
    "df = pd.get_dummies(df, columns=categorical_columns, drop_first=True)\n",
    "print(\"Categorical columns encoded.\")"
   ]
  },
  {
   "cell_type": "markdown",
   "metadata": {},
   "source": [
    "Perfoeming Sentimental analysis on Text and laater will map to integers"
   ]
  },
  {
   "cell_type": "code",
   "execution_count": 8,
   "metadata": {},
   "outputs": [
    {
     "name": "stdout",
     "output_type": "stream",
     "text": [
      "\n",
      "Performing sentiment analysis on text columns...\n"
     ]
    }
   ],
   "source": [
    "print(\"\\nPerforming sentiment analysis on text columns...\")\n",
    "def sentiment_analysis(text):\n",
    "    if isinstance(text, str):\n",
    "        return TextBlob(text).sentiment.polarity\n",
    "    else:\n",
    "        return 0 "
   ]
  },
  {
   "cell_type": "code",
   "execution_count": 9,
   "metadata": {},
   "outputs": [],
   "source": [
    "for column in text_columns:\n",
    "    df[f'{column} Sentiment'] = df[column].apply(sentiment_analysis)"
   ]
  },
  {
   "cell_type": "code",
   "execution_count": 10,
   "metadata": {},
   "outputs": [
    {
     "name": "stdout",
     "output_type": "stream",
     "text": [
      "Sentiment analysis completed.\n"
     ]
    }
   ],
   "source": [
    "df = df.drop(text_columns, axis=1)\n",
    "print(\"Sentiment analysis completed.\")"
   ]
  },
  {
   "cell_type": "code",
   "execution_count": 11,
   "metadata": {},
   "outputs": [
    {
     "name": "stdout",
     "output_type": "stream",
     "text": [
      "\n",
      "Converting date columns to datetime and extracting year, month, and day...\n"
     ]
    }
   ],
   "source": [
    "print(\"\\nConverting date columns to datetime and extracting year, month, and day...\")\n",
    "for column in date_columns:\n",
    "    df[column] = pd.to_datetime(df[column], errors='coerce')\n",
    "    df[f'{column} Year'] = df[column].dt.year\n",
    "    df[f'{column} Month'] = df[column].dt.month\n",
    "    df[f'{column} Day'] = df[column].dt.day"
   ]
  },
  {
   "cell_type": "code",
   "execution_count": 12,
   "metadata": {},
   "outputs": [
    {
     "name": "stdout",
     "output_type": "stream",
     "text": [
      "Date columns converted and broken into multiple pieces.\n"
     ]
    }
   ],
   "source": [
    "df = df.drop(date_columns, axis=1)\n",
    "print(\"Date columns converted and broken into multiple pieces.\")"
   ]
  },
  {
   "cell_type": "markdown",
   "id": "7dd8b48a",
   "metadata": {},
   "source": [
    "Checkig Boolean columns and mapping it to {0,1}"
   ]
  },
  {
   "cell_type": "code",
   "execution_count": 13,
   "metadata": {},
   "outputs": [],
   "source": [
    "boolean_columns = []\n",
    "for column in df.columns:\n",
    "    if df[column].dtype == 'bool':\n",
    "        boolean_columns.append(column)\n"
   ]
  },
  {
   "cell_type": "code",
   "execution_count": 14,
   "metadata": {},
   "outputs": [
    {
     "name": "stdout",
     "output_type": "stream",
     "text": [
      "\n",
      "Converting boolean columns to 0 and 1...\n",
      "Boolean columns converted.\n"
     ]
    }
   ],
   "source": [
    "print(\"\\nConverting boolean columns to 0 and 1...\")\n",
    "for column in boolean_columns:\n",
    "    df[column] = df[column].astype(int)\n",
    "print(\"Boolean columns converted.\")\n"
   ]
  },
  {
   "cell_type": "code",
   "execution_count": 15,
   "metadata": {},
   "outputs": [
    {
     "data": {
      "text/html": [
       "<div>\n",
       "<style scoped>\n",
       "    .dataframe tbody tr th:only-of-type {\n",
       "        vertical-align: middle;\n",
       "    }\n",
       "\n",
       "    .dataframe tbody tr th {\n",
       "        vertical-align: top;\n",
       "    }\n",
       "\n",
       "    .dataframe thead th {\n",
       "        text-align: right;\n",
       "    }\n",
       "</style>\n",
       "<table border=\"1\" class=\"dataframe\">\n",
       "  <thead>\n",
       "    <tr style=\"text-align: right;\">\n",
       "      <th></th>\n",
       "      <th>Enrollment</th>\n",
       "      <th>Start Date</th>\n",
       "      <th>Completion Date</th>\n",
       "      <th>First Posted</th>\n",
       "      <th>Results First Posted</th>\n",
       "      <th>Last Update Posted</th>\n",
       "      <th>Study Recruitment Rate</th>\n",
       "      <th>Study Status_COMPLETED</th>\n",
       "      <th>Study Status_ENROLLING_BY_INVITATION</th>\n",
       "      <th>Study Status_NOT_YET_RECRUITING</th>\n",
       "      <th>...</th>\n",
       "      <th>Secondary Outcome Measures Sentiment</th>\n",
       "      <th>Other Outcome Measures Sentiment</th>\n",
       "      <th>Sponsor Sentiment</th>\n",
       "      <th>Collaborators Sentiment</th>\n",
       "      <th>Study Design Sentiment</th>\n",
       "      <th>Other IDs Sentiment</th>\n",
       "      <th>Locations Sentiment</th>\n",
       "      <th>Primary Completion Date Year</th>\n",
       "      <th>Primary Completion Date Month</th>\n",
       "      <th>Primary Completion Date Day</th>\n",
       "    </tr>\n",
       "  </thead>\n",
       "  <tbody>\n",
       "    <tr>\n",
       "      <th>0</th>\n",
       "      <td>7</td>\n",
       "      <td>2014-05-12</td>\n",
       "      <td>2015-06-02</td>\n",
       "      <td>2009-05-13</td>\n",
       "      <td>NaT</td>\n",
       "      <td>2022-04-05</td>\n",
       "      <td>0.551598</td>\n",
       "      <td>1</td>\n",
       "      <td>0</td>\n",
       "      <td>0</td>\n",
       "      <td>...</td>\n",
       "      <td>0.200000</td>\n",
       "      <td>0.000</td>\n",
       "      <td>0.000000</td>\n",
       "      <td>0.0</td>\n",
       "      <td>0.0</td>\n",
       "      <td>0.0</td>\n",
       "      <td>-0.100000</td>\n",
       "      <td>2015</td>\n",
       "      <td>6</td>\n",
       "      <td>2</td>\n",
       "    </tr>\n",
       "    <tr>\n",
       "      <th>1</th>\n",
       "      <td>44</td>\n",
       "      <td>2014-02-20</td>\n",
       "      <td>2015-10-17</td>\n",
       "      <td>2010-04-30</td>\n",
       "      <td>2024-05-20</td>\n",
       "      <td>2024-05-20</td>\n",
       "      <td>0.443157</td>\n",
       "      <td>1</td>\n",
       "      <td>0</td>\n",
       "      <td>0</td>\n",
       "      <td>...</td>\n",
       "      <td>0.000000</td>\n",
       "      <td>0.125</td>\n",
       "      <td>-0.035714</td>\n",
       "      <td>0.0</td>\n",
       "      <td>0.0</td>\n",
       "      <td>0.0</td>\n",
       "      <td>0.018182</td>\n",
       "      <td>2015</td>\n",
       "      <td>6</td>\n",
       "      <td>27</td>\n",
       "    </tr>\n",
       "    <tr>\n",
       "      <th>2</th>\n",
       "      <td>46</td>\n",
       "      <td>2014-03-03</td>\n",
       "      <td>2017-05-09</td>\n",
       "      <td>2011-02-02</td>\n",
       "      <td>NaT</td>\n",
       "      <td>2017-05-16</td>\n",
       "      <td>0.044558</td>\n",
       "      <td>1</td>\n",
       "      <td>0</td>\n",
       "      <td>0</td>\n",
       "      <td>...</td>\n",
       "      <td>-0.034848</td>\n",
       "      <td>0.000</td>\n",
       "      <td>0.000000</td>\n",
       "      <td>0.0</td>\n",
       "      <td>0.0</td>\n",
       "      <td>0.0</td>\n",
       "      <td>0.166667</td>\n",
       "      <td>2017</td>\n",
       "      <td>5</td>\n",
       "      <td>9</td>\n",
       "    </tr>\n",
       "    <tr>\n",
       "      <th>3</th>\n",
       "      <td>56</td>\n",
       "      <td>2018-07-21</td>\n",
       "      <td>2018-11-15</td>\n",
       "      <td>2011-04-18</td>\n",
       "      <td>NaT</td>\n",
       "      <td>2018-12-13</td>\n",
       "      <td>7.279202</td>\n",
       "      <td>1</td>\n",
       "      <td>0</td>\n",
       "      <td>0</td>\n",
       "      <td>...</td>\n",
       "      <td>-0.250000</td>\n",
       "      <td>0.000</td>\n",
       "      <td>0.000000</td>\n",
       "      <td>0.0</td>\n",
       "      <td>0.0</td>\n",
       "      <td>0.0</td>\n",
       "      <td>0.000000</td>\n",
       "      <td>2018</td>\n",
       "      <td>11</td>\n",
       "      <td>1</td>\n",
       "    </tr>\n",
       "    <tr>\n",
       "      <th>4</th>\n",
       "      <td>851</td>\n",
       "      <td>2014-04-24</td>\n",
       "      <td>2016-11-18</td>\n",
       "      <td>2011-06-20</td>\n",
       "      <td>2018-04-23</td>\n",
       "      <td>2018-04-23</td>\n",
       "      <td>1.969008</td>\n",
       "      <td>1</td>\n",
       "      <td>0</td>\n",
       "      <td>0</td>\n",
       "      <td>...</td>\n",
       "      <td>0.060112</td>\n",
       "      <td>0.000</td>\n",
       "      <td>0.000000</td>\n",
       "      <td>0.0</td>\n",
       "      <td>0.0</td>\n",
       "      <td>0.0</td>\n",
       "      <td>0.000000</td>\n",
       "      <td>2016</td>\n",
       "      <td>11</td>\n",
       "      <td>18</td>\n",
       "    </tr>\n",
       "    <tr>\n",
       "      <th>...</th>\n",
       "      <td>...</td>\n",
       "      <td>...</td>\n",
       "      <td>...</td>\n",
       "      <td>...</td>\n",
       "      <td>...</td>\n",
       "      <td>...</td>\n",
       "      <td>...</td>\n",
       "      <td>...</td>\n",
       "      <td>...</td>\n",
       "      <td>...</td>\n",
       "      <td>...</td>\n",
       "      <td>...</td>\n",
       "      <td>...</td>\n",
       "      <td>...</td>\n",
       "      <td>...</td>\n",
       "      <td>...</td>\n",
       "      <td>...</td>\n",
       "      <td>...</td>\n",
       "      <td>...</td>\n",
       "      <td>...</td>\n",
       "      <td>...</td>\n",
       "    </tr>\n",
       "    <tr>\n",
       "      <th>20671</th>\n",
       "      <td>108</td>\n",
       "      <td>2021-05-17</td>\n",
       "      <td>2022-07-18</td>\n",
       "      <td>2021-05-12</td>\n",
       "      <td>NaT</td>\n",
       "      <td>2023-04-26</td>\n",
       "      <td>7.693208</td>\n",
       "      <td>1</td>\n",
       "      <td>0</td>\n",
       "      <td>0</td>\n",
       "      <td>...</td>\n",
       "      <td>-0.272619</td>\n",
       "      <td>0.000</td>\n",
       "      <td>0.000000</td>\n",
       "      <td>0.0</td>\n",
       "      <td>0.0</td>\n",
       "      <td>0.0</td>\n",
       "      <td>0.000000</td>\n",
       "      <td>2022</td>\n",
       "      <td>7</td>\n",
       "      <td>18</td>\n",
       "    </tr>\n",
       "    <tr>\n",
       "      <th>20672</th>\n",
       "      <td>66</td>\n",
       "      <td>2015-08-04</td>\n",
       "      <td>2019-07-12</td>\n",
       "      <td>2015-05-25</td>\n",
       "      <td>NaT</td>\n",
       "      <td>2019-08-29</td>\n",
       "      <td>0.199434</td>\n",
       "      <td>1</td>\n",
       "      <td>0</td>\n",
       "      <td>0</td>\n",
       "      <td>...</td>\n",
       "      <td>0.126488</td>\n",
       "      <td>0.000</td>\n",
       "      <td>0.000000</td>\n",
       "      <td>0.0</td>\n",
       "      <td>0.0</td>\n",
       "      <td>0.0</td>\n",
       "      <td>-0.025253</td>\n",
       "      <td>2019</td>\n",
       "      <td>7</td>\n",
       "      <td>12</td>\n",
       "    </tr>\n",
       "    <tr>\n",
       "      <th>20673</th>\n",
       "      <td>261</td>\n",
       "      <td>2018-08-30</td>\n",
       "      <td>2020-09-07</td>\n",
       "      <td>2019-02-22</td>\n",
       "      <td>NaT</td>\n",
       "      <td>2021-05-11</td>\n",
       "      <td>1.074256</td>\n",
       "      <td>1</td>\n",
       "      <td>0</td>\n",
       "      <td>0</td>\n",
       "      <td>...</td>\n",
       "      <td>0.000000</td>\n",
       "      <td>0.000</td>\n",
       "      <td>0.000000</td>\n",
       "      <td>0.0</td>\n",
       "      <td>0.0</td>\n",
       "      <td>0.0</td>\n",
       "      <td>-0.040000</td>\n",
       "      <td>2020</td>\n",
       "      <td>5</td>\n",
       "      <td>12</td>\n",
       "    </tr>\n",
       "    <tr>\n",
       "      <th>20674</th>\n",
       "      <td>12</td>\n",
       "      <td>2014-01-14</td>\n",
       "      <td>2015-10-13</td>\n",
       "      <td>2013-11-11</td>\n",
       "      <td>2021-03-26</td>\n",
       "      <td>2021-03-26</td>\n",
       "      <td>0.044077</td>\n",
       "      <td>0</td>\n",
       "      <td>0</td>\n",
       "      <td>0</td>\n",
       "      <td>...</td>\n",
       "      <td>0.062864</td>\n",
       "      <td>0.000</td>\n",
       "      <td>0.000000</td>\n",
       "      <td>0.0</td>\n",
       "      <td>0.4</td>\n",
       "      <td>0.0</td>\n",
       "      <td>-0.015909</td>\n",
       "      <td>2015</td>\n",
       "      <td>9</td>\n",
       "      <td>1</td>\n",
       "    </tr>\n",
       "    <tr>\n",
       "      <th>20675</th>\n",
       "      <td>108</td>\n",
       "      <td>2018-03-07</td>\n",
       "      <td>2021-12-03</td>\n",
       "      <td>2018-07-19</td>\n",
       "      <td>NaT</td>\n",
       "      <td>2023-06-08</td>\n",
       "      <td>0.133504</td>\n",
       "      <td>1</td>\n",
       "      <td>0</td>\n",
       "      <td>0</td>\n",
       "      <td>...</td>\n",
       "      <td>0.071163</td>\n",
       "      <td>0.000</td>\n",
       "      <td>0.000000</td>\n",
       "      <td>0.0</td>\n",
       "      <td>0.0</td>\n",
       "      <td>0.0</td>\n",
       "      <td>-0.050000</td>\n",
       "      <td>2019</td>\n",
       "      <td>3</td>\n",
       "      <td>27</td>\n",
       "    </tr>\n",
       "  </tbody>\n",
       "</table>\n",
       "<p>20676 rows × 50 columns</p>\n",
       "</div>"
      ],
      "text/plain": [
       "       Enrollment Start Date Completion Date First Posted  \\\n",
       "0               7 2014-05-12      2015-06-02   2009-05-13   \n",
       "1              44 2014-02-20      2015-10-17   2010-04-30   \n",
       "2              46 2014-03-03      2017-05-09   2011-02-02   \n",
       "3              56 2018-07-21      2018-11-15   2011-04-18   \n",
       "4             851 2014-04-24      2016-11-18   2011-06-20   \n",
       "...           ...        ...             ...          ...   \n",
       "20671         108 2021-05-17      2022-07-18   2021-05-12   \n",
       "20672          66 2015-08-04      2019-07-12   2015-05-25   \n",
       "20673         261 2018-08-30      2020-09-07   2019-02-22   \n",
       "20674          12 2014-01-14      2015-10-13   2013-11-11   \n",
       "20675         108 2018-03-07      2021-12-03   2018-07-19   \n",
       "\n",
       "      Results First Posted Last Update Posted  Study Recruitment Rate  \\\n",
       "0                      NaT         2022-04-05                0.551598   \n",
       "1               2024-05-20         2024-05-20                0.443157   \n",
       "2                      NaT         2017-05-16                0.044558   \n",
       "3                      NaT         2018-12-13                7.279202   \n",
       "4               2018-04-23         2018-04-23                1.969008   \n",
       "...                    ...                ...                     ...   \n",
       "20671                  NaT         2023-04-26                7.693208   \n",
       "20672                  NaT         2019-08-29                0.199434   \n",
       "20673                  NaT         2021-05-11                1.074256   \n",
       "20674           2021-03-26         2021-03-26                0.044077   \n",
       "20675                  NaT         2023-06-08                0.133504   \n",
       "\n",
       "       Study Status_COMPLETED  Study Status_ENROLLING_BY_INVITATION  \\\n",
       "0                           1                                     0   \n",
       "1                           1                                     0   \n",
       "2                           1                                     0   \n",
       "3                           1                                     0   \n",
       "4                           1                                     0   \n",
       "...                       ...                                   ...   \n",
       "20671                       1                                     0   \n",
       "20672                       1                                     0   \n",
       "20673                       1                                     0   \n",
       "20674                       0                                     0   \n",
       "20675                       1                                     0   \n",
       "\n",
       "       Study Status_NOT_YET_RECRUITING  ...  \\\n",
       "0                                    0  ...   \n",
       "1                                    0  ...   \n",
       "2                                    0  ...   \n",
       "3                                    0  ...   \n",
       "4                                    0  ...   \n",
       "...                                ...  ...   \n",
       "20671                                0  ...   \n",
       "20672                                0  ...   \n",
       "20673                                0  ...   \n",
       "20674                                0  ...   \n",
       "20675                                0  ...   \n",
       "\n",
       "       Secondary Outcome Measures Sentiment  Other Outcome Measures Sentiment  \\\n",
       "0                                  0.200000                             0.000   \n",
       "1                                  0.000000                             0.125   \n",
       "2                                 -0.034848                             0.000   \n",
       "3                                 -0.250000                             0.000   \n",
       "4                                  0.060112                             0.000   \n",
       "...                                     ...                               ...   \n",
       "20671                             -0.272619                             0.000   \n",
       "20672                              0.126488                             0.000   \n",
       "20673                              0.000000                             0.000   \n",
       "20674                              0.062864                             0.000   \n",
       "20675                              0.071163                             0.000   \n",
       "\n",
       "       Sponsor Sentiment  Collaborators Sentiment  Study Design Sentiment  \\\n",
       "0               0.000000                      0.0                     0.0   \n",
       "1              -0.035714                      0.0                     0.0   \n",
       "2               0.000000                      0.0                     0.0   \n",
       "3               0.000000                      0.0                     0.0   \n",
       "4               0.000000                      0.0                     0.0   \n",
       "...                  ...                      ...                     ...   \n",
       "20671           0.000000                      0.0                     0.0   \n",
       "20672           0.000000                      0.0                     0.0   \n",
       "20673           0.000000                      0.0                     0.0   \n",
       "20674           0.000000                      0.0                     0.4   \n",
       "20675           0.000000                      0.0                     0.0   \n",
       "\n",
       "       Other IDs Sentiment  Locations Sentiment  Primary Completion Date Year  \\\n",
       "0                      0.0            -0.100000                          2015   \n",
       "1                      0.0             0.018182                          2015   \n",
       "2                      0.0             0.166667                          2017   \n",
       "3                      0.0             0.000000                          2018   \n",
       "4                      0.0             0.000000                          2016   \n",
       "...                    ...                  ...                           ...   \n",
       "20671                  0.0             0.000000                          2022   \n",
       "20672                  0.0            -0.025253                          2019   \n",
       "20673                  0.0            -0.040000                          2020   \n",
       "20674                  0.0            -0.015909                          2015   \n",
       "20675                  0.0            -0.050000                          2019   \n",
       "\n",
       "       Primary Completion Date Month  Primary Completion Date Day  \n",
       "0                                  6                            2  \n",
       "1                                  6                           27  \n",
       "2                                  5                            9  \n",
       "3                                 11                            1  \n",
       "4                                 11                           18  \n",
       "...                              ...                          ...  \n",
       "20671                              7                           18  \n",
       "20672                              7                           12  \n",
       "20673                              5                           12  \n",
       "20674                              9                            1  \n",
       "20675                              3                           27  \n",
       "\n",
       "[20676 rows x 50 columns]"
      ]
     },
     "execution_count": 15,
     "metadata": {},
     "output_type": "execute_result"
    }
   ],
   "source": [
    "df"
   ]
  },
  {
   "cell_type": "code",
   "execution_count": 16,
   "metadata": {},
   "outputs": [
    {
     "name": "stdout",
     "output_type": "stream",
     "text": [
      "<class 'pandas.core.frame.DataFrame'>\n",
      "RangeIndex: 20676 entries, 0 to 20675\n",
      "Data columns (total 50 columns):\n",
      " #   Column                                Non-Null Count  Dtype         \n",
      "---  ------                                --------------  -----         \n",
      " 0   Enrollment                            20676 non-null  int64         \n",
      " 1   Start Date                            20676 non-null  datetime64[ns]\n",
      " 2   Completion Date                       20675 non-null  datetime64[ns]\n",
      " 3   First Posted                          20676 non-null  datetime64[ns]\n",
      " 4   Results First Posted                  7674 non-null   datetime64[ns]\n",
      " 5   Last Update Posted                    20676 non-null  datetime64[ns]\n",
      " 6   Study Recruitment Rate                20676 non-null  float64       \n",
      " 7   Study Status_COMPLETED                20676 non-null  int64         \n",
      " 8   Study Status_ENROLLING_BY_INVITATION  20676 non-null  int64         \n",
      " 9   Study Status_NOT_YET_RECRUITING       20676 non-null  int64         \n",
      " 10  Study Status_RECRUITING               20676 non-null  int64         \n",
      " 11  Study Status_SUSPENDED                20676 non-null  int64         \n",
      " 12  Study Status_TERMINATED               20676 non-null  int64         \n",
      " 13  Study Status_UNKNOWN                  20676 non-null  int64         \n",
      " 14  Study Results_YES                     20676 non-null  int64         \n",
      " 15  Sex_FEMALE                            20676 non-null  int64         \n",
      " 16  Sex_MALE                              20676 non-null  int64         \n",
      " 17  Age_ADULT, OLDER_ADULT                20676 non-null  int64         \n",
      " 18  Age_CHILD                             20676 non-null  int64         \n",
      " 19  Age_CHILD, ADULT                      20676 non-null  int64         \n",
      " 20  Age_CHILD, ADULT, OLDER_ADULT         20676 non-null  int64         \n",
      " 21  Age_OLDER_ADULT                       20676 non-null  int64         \n",
      " 22  Phases_PHASE1|PHASE2                  20676 non-null  int64         \n",
      " 23  Phases_PHASE2                         20676 non-null  int64         \n",
      " 24  Phases_PHASE2|PHASE3                  20676 non-null  int64         \n",
      " 25  Phases_PHASE3                         20676 non-null  int64         \n",
      " 26  Funder Type_INDIV                     20676 non-null  int64         \n",
      " 27  Funder Type_INDUSTRY                  20676 non-null  int64         \n",
      " 28  Funder Type_NETWORK                   20676 non-null  int64         \n",
      " 29  Funder Type_NIH                       20676 non-null  int64         \n",
      " 30  Funder Type_OTHER                     20676 non-null  int64         \n",
      " 31  Funder Type_OTHER_GOV                 20676 non-null  int64         \n",
      " 32  Funder Type_UNKNOWN                   20676 non-null  int64         \n",
      " 33  NCT Number Sentiment                  20676 non-null  float64       \n",
      " 34  Study Title Sentiment                 20676 non-null  float64       \n",
      " 35  Study URL Sentiment                   20676 non-null  float64       \n",
      " 36  Brief Summary Sentiment               20676 non-null  float64       \n",
      " 37  Conditions Sentiment                  20676 non-null  float64       \n",
      " 38  Interventions Sentiment               20676 non-null  float64       \n",
      " 39  Primary Outcome Measures Sentiment    20676 non-null  float64       \n",
      " 40  Secondary Outcome Measures Sentiment  20676 non-null  float64       \n",
      " 41  Other Outcome Measures Sentiment      20676 non-null  float64       \n",
      " 42  Sponsor Sentiment                     20676 non-null  float64       \n",
      " 43  Collaborators Sentiment               20676 non-null  float64       \n",
      " 44  Study Design Sentiment                20676 non-null  float64       \n",
      " 45  Other IDs Sentiment                   20676 non-null  float64       \n",
      " 46  Locations Sentiment                   20676 non-null  float64       \n",
      " 47  Primary Completion Date Year          20676 non-null  int32         \n",
      " 48  Primary Completion Date Month         20676 non-null  int32         \n",
      " 49  Primary Completion Date Day           20676 non-null  int32         \n",
      "dtypes: datetime64[ns](5), float64(15), int32(3), int64(27)\n",
      "memory usage: 7.7 MB\n"
     ]
    }
   ],
   "source": [
    "df.info()"
   ]
  },
  {
   "cell_type": "code",
   "execution_count": 17,
   "metadata": {},
   "outputs": [
    {
     "name": "stdout",
     "output_type": "stream",
     "text": [
      "\n",
      "Splitting data into features and target...\n"
     ]
    }
   ],
   "source": [
    "print(\"\\nSplitting data into features and target...\")\n",
    "X = df.drop('Study Recruitment Rate', axis=1)\n",
    "y = df['Study Recruitment Rate']"
   ]
  },
  {
   "cell_type": "code",
   "execution_count": 18,
   "metadata": {},
   "outputs": [
    {
     "name": "stdout",
     "output_type": "stream",
     "text": [
      "Full dataset saved as full.csv.\n"
     ]
    }
   ],
   "source": [
    "full_df = pd.concat([X, y], axis=1)\n",
    "output_dir = 'preprocessed-dataset'\n",
    "\n",
    "full_df.to_csv(os.path.join(output_dir, 'full.csv'), index=False)\n",
    "print(\"Full dataset saved as full.csv.\")"
   ]
  },
  {
   "cell_type": "code",
   "execution_count": 19,
   "metadata": {},
   "outputs": [
    {
     "name": "stdout",
     "output_type": "stream",
     "text": [
      "\n",
      "Splitting data into training, validation, and test sets...\n",
      "Data split completed.\n"
     ]
    }
   ],
   "source": [
    "print(\"\\nSplitting data into training, validation, and test sets...\")\n",
    "X_train, X_temp, y_train, y_temp = train_test_split(X, y, test_size=0.3, random_state=42)\n",
    "X_val, X_test, y_val, y_test = train_test_split(X_temp, y_temp, test_size=0.5, random_state=42)\n",
    "print(\"Data split completed.\")\n"
   ]
  },
  {
   "cell_type": "code",
   "execution_count": 20,
   "metadata": {},
   "outputs": [],
   "source": [
    "output_dir = 'preprocessed-dataset'\n",
    "if not os.path.exists(output_dir):\n",
    "    os.makedirs(output_dir)\n",
    "\n"
   ]
  },
  {
   "cell_type": "code",
   "execution_count": 21,
   "metadata": {},
   "outputs": [
    {
     "name": "stdout",
     "output_type": "stream",
     "text": [
      "\n",
      "Saving preprocessed datasets...\n"
     ]
    }
   ],
   "source": [
    "print(\"\\nSaving preprocessed datasets...\")\n",
    "train_data = pd.concat([X_train, y_train], axis=1)\n",
    "val_data = pd.concat([X_val, y_val], axis=1)\n",
    "test_data = pd.concat([X_test, y_test], axis=1)\n",
    "\n"
   ]
  },
  {
   "cell_type": "code",
   "execution_count": 22,
   "metadata": {},
   "outputs": [
    {
     "name": "stdout",
     "output_type": "stream",
     "text": [
      "Preprocessed datasets saved.\n",
      "\n",
      "Data preprocessing completed.\n"
     ]
    }
   ],
   "source": [
    "train_data.to_csv(os.path.join(output_dir, 'train.csv'), index=False)\n",
    "val_data.to_csv(os.path.join(output_dir, 'val.csv'), index=False)\n",
    "test_data.to_csv(os.path.join(output_dir, 'test.csv'), index=False)\n",
    "print(\"Preprocessed datasets saved.\")\n",
    "\n",
    "print(\"\\nData preprocessing completed.\")"
   ]
  },
  {
   "cell_type": "markdown",
   "id": "e089f646",
   "metadata": {},
   "source": [
    "### Step : Checking Dataset Dimensions\n",
    "Displays the number of rows and columns in the dataset to understand its size."
   ]
  },
  {
   "cell_type": "code",
   "execution_count": 23,
   "metadata": {},
   "outputs": [
    {
     "data": {
      "text/plain": [
       "((14473, 50), (3101, 50), (3102, 50))"
      ]
     },
     "execution_count": 23,
     "metadata": {},
     "output_type": "execute_result"
    }
   ],
   "source": [
    "train_data.shape, val_data.shape, test_data.shape"
   ]
  }
 ],
 "metadata": {
  "kernelspec": {
   "display_name": "Python 3",
   "language": "python",
   "name": "python3"
  },
  "language_info": {
   "codemirror_mode": {
    "name": "ipython",
    "version": 3
   },
   "file_extension": ".py",
   "mimetype": "text/x-python",
   "name": "python",
   "nbconvert_exporter": "python",
   "pygments_lexer": "ipython3",
   "version": "3.13.1"
  }
 },
 "nbformat": 4,
 "nbformat_minor": 2
}
